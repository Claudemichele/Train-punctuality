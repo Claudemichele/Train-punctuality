{
 "cells": [
  {
   "cell_type": "markdown",
   "metadata": {},
   "source": [
    "## Case: Does the weather have an influence on the punctuality of trains ??\n"
   ]
  },
  {
   "cell_type": "code",
   "execution_count": 48,
   "metadata": {},
   "outputs": [],
   "source": [
    "import warnings\n",
    "warnings.filterwarnings(\"ignore\", category=DeprecationWarning)\n",
    "warnings.filterwarnings(\"ignore\", category=FutureWarning)\n"
   ]
  },
  {
   "cell_type": "markdown",
   "metadata": {},
   "source": [
    "### Data exploratie"
   ]
  },
  {
   "cell_type": "code",
   "execution_count": 2,
   "metadata": {},
   "outputs": [
    {
     "data": {
      "text/html": [
       "<div>\n",
       "<style scoped>\n",
       "    .dataframe tbody tr th:only-of-type {\n",
       "        vertical-align: middle;\n",
       "    }\n",
       "\n",
       "    .dataframe tbody tr th {\n",
       "        vertical-align: top;\n",
       "    }\n",
       "\n",
       "    .dataframe thead th {\n",
       "        text-align: right;\n",
       "    }\n",
       "</style>\n",
       "<table border=\"1\" class=\"dataframe\">\n",
       "  <thead>\n",
       "    <tr style=\"text-align: right;\">\n",
       "      <th></th>\n",
       "      <th>Datum</th>\n",
       "      <th>Punctuality</th>\n",
       "      <th>Uitval</th>\n",
       "    </tr>\n",
       "  </thead>\n",
       "  <tbody>\n",
       "    <tr>\n",
       "      <th>0</th>\n",
       "      <td>06-07-2008</td>\n",
       "      <td>91.024860</td>\n",
       "      <td>2.057339</td>\n",
       "    </tr>\n",
       "    <tr>\n",
       "      <th>1</th>\n",
       "      <td>07-07-2008</td>\n",
       "      <td>87.288559</td>\n",
       "      <td>1.797290</td>\n",
       "    </tr>\n",
       "    <tr>\n",
       "      <th>2</th>\n",
       "      <td>08-07-2008</td>\n",
       "      <td>89.441957</td>\n",
       "      <td>1.308944</td>\n",
       "    </tr>\n",
       "    <tr>\n",
       "      <th>3</th>\n",
       "      <td>09-07-2008</td>\n",
       "      <td>82.830959</td>\n",
       "      <td>1.800605</td>\n",
       "    </tr>\n",
       "    <tr>\n",
       "      <th>4</th>\n",
       "      <td>10-07-2008</td>\n",
       "      <td>80.569308</td>\n",
       "      <td>1.493777</td>\n",
       "    </tr>\n",
       "  </tbody>\n",
       "</table>\n",
       "</div>"
      ],
      "text/plain": [
       "        Datum  Punctuality    Uitval\n",
       "0  06-07-2008    91.024860  2.057339\n",
       "1  07-07-2008    87.288559  1.797290\n",
       "2  08-07-2008    89.441957  1.308944\n",
       "3  09-07-2008    82.830959  1.800605\n",
       "4  10-07-2008    80.569308  1.493777"
      ]
     },
     "execution_count": 2,
     "metadata": {},
     "output_type": "execute_result"
    }
   ],
   "source": [
    "# Importing librairies\n",
    "import numpy as np\n",
    "import pandas as pd\n",
    "\n",
    "# Loading the first dataset\n",
    "dataset1 = pd.read_csv('Dataset I - Punctuality.csv')\n",
    "dataset1.head()\n"
   ]
  },
  {
   "cell_type": "code",
   "execution_count": 3,
   "metadata": {},
   "outputs": [
    {
     "name": "stdout",
     "output_type": "stream",
     "text": [
      "Weather dataset dimensions: (1974, 3)\n"
     ]
    }
   ],
   "source": [
    " \n",
    "print('Weather dataset dimensions:', dataset1.shape)"
   ]
  },
  {
   "cell_type": "code",
   "execution_count": 4,
   "metadata": {},
   "outputs": [
    {
     "data": {
      "text/html": [
       "<div>\n",
       "<style scoped>\n",
       "    .dataframe tbody tr th:only-of-type {\n",
       "        vertical-align: middle;\n",
       "    }\n",
       "\n",
       "    .dataframe tbody tr th {\n",
       "        vertical-align: top;\n",
       "    }\n",
       "\n",
       "    .dataframe thead th {\n",
       "        text-align: right;\n",
       "    }\n",
       "</style>\n",
       "<table border=\"1\" class=\"dataframe\">\n",
       "  <thead>\n",
       "    <tr style=\"text-align: right;\">\n",
       "      <th></th>\n",
       "      <th>Datum</th>\n",
       "      <th>Dag.Max..windstoot..km.u.</th>\n",
       "      <th>DagMax..Sneeuw..cm.</th>\n",
       "      <th>DagMax..Windkracht..bft.</th>\n",
       "      <th>DagMax.Neerslag..mm.uur.</th>\n",
       "      <th>DagMin.Temp..1.5m..C.</th>\n",
       "    </tr>\n",
       "  </thead>\n",
       "  <tbody>\n",
       "    <tr>\n",
       "      <th>0</th>\n",
       "      <td>01-01-2002</td>\n",
       "      <td>46.7</td>\n",
       "      <td>0.3</td>\n",
       "      <td>5</td>\n",
       "      <td>0.7</td>\n",
       "      <td>-4.2</td>\n",
       "    </tr>\n",
       "    <tr>\n",
       "      <th>1</th>\n",
       "      <td>02-01-2002</td>\n",
       "      <td>43.2</td>\n",
       "      <td>0.0</td>\n",
       "      <td>5</td>\n",
       "      <td>0.0</td>\n",
       "      <td>-6.8</td>\n",
       "    </tr>\n",
       "    <tr>\n",
       "      <th>2</th>\n",
       "      <td>03-01-2002</td>\n",
       "      <td>46.7</td>\n",
       "      <td>0.0</td>\n",
       "      <td>5</td>\n",
       "      <td>0.0</td>\n",
       "      <td>-5.9</td>\n",
       "    </tr>\n",
       "    <tr>\n",
       "      <th>3</th>\n",
       "      <td>04-01-2002</td>\n",
       "      <td>39.6</td>\n",
       "      <td>0.0</td>\n",
       "      <td>5</td>\n",
       "      <td>0.0</td>\n",
       "      <td>-9.9</td>\n",
       "    </tr>\n",
       "    <tr>\n",
       "      <th>4</th>\n",
       "      <td>05-01-2002</td>\n",
       "      <td>32.4</td>\n",
       "      <td>0.0</td>\n",
       "      <td>4</td>\n",
       "      <td>0.0</td>\n",
       "      <td>-10.3</td>\n",
       "    </tr>\n",
       "  </tbody>\n",
       "</table>\n",
       "</div>"
      ],
      "text/plain": [
       "        Datum  Dag.Max..windstoot..km.u.  DagMax..Sneeuw..cm.  \\\n",
       "0  01-01-2002                       46.7                  0.3   \n",
       "1  02-01-2002                       43.2                  0.0   \n",
       "2  03-01-2002                       46.7                  0.0   \n",
       "3  04-01-2002                       39.6                  0.0   \n",
       "4  05-01-2002                       32.4                  0.0   \n",
       "\n",
       "   DagMax..Windkracht..bft.  DagMax.Neerslag..mm.uur.  DagMin.Temp..1.5m..C.  \n",
       "0                         5                       0.7                   -4.2  \n",
       "1                         5                       0.0                   -6.8  \n",
       "2                         5                       0.0                   -5.9  \n",
       "3                         5                       0.0                   -9.9  \n",
       "4                         4                       0.0                  -10.3  "
      ]
     },
     "execution_count": 4,
     "metadata": {},
     "output_type": "execute_result"
    }
   ],
   "source": [
    "# Loading the second dataset\n",
    "dataset2 = pd.read_csv('Dataset II - Weather.csv')\n",
    "dataset2.head()"
   ]
  },
  {
   "cell_type": "code",
   "execution_count": 5,
   "metadata": {},
   "outputs": [
    {
     "name": "stdout",
     "output_type": "stream",
     "text": [
      "Punctualiteit dataset dimensions: (4383, 6)\n"
     ]
    }
   ],
   "source": [
    " \n",
    "print('Punctualiteit dataset dimensions:', dataset2.shape)"
   ]
  },
  {
   "cell_type": "code",
   "execution_count": 6,
   "metadata": {},
   "outputs": [
    {
     "data": {
      "text/html": [
       "<div>\n",
       "<style scoped>\n",
       "    .dataframe tbody tr th:only-of-type {\n",
       "        vertical-align: middle;\n",
       "    }\n",
       "\n",
       "    .dataframe tbody tr th {\n",
       "        vertical-align: top;\n",
       "    }\n",
       "\n",
       "    .dataframe thead th {\n",
       "        text-align: right;\n",
       "    }\n",
       "</style>\n",
       "<table border=\"1\" class=\"dataframe\">\n",
       "  <thead>\n",
       "    <tr style=\"text-align: right;\">\n",
       "      <th></th>\n",
       "      <th>Dag.Max..windstoot..km.u.</th>\n",
       "      <th>DagMax..Sneeuw..cm.</th>\n",
       "      <th>DagMax..Windkracht..bft.</th>\n",
       "      <th>DagMax.Neerslag..mm.uur.</th>\n",
       "      <th>DagMin.Temp..1.5m..C.</th>\n",
       "    </tr>\n",
       "  </thead>\n",
       "  <tbody>\n",
       "    <tr>\n",
       "      <th>count</th>\n",
       "      <td>4383.000000</td>\n",
       "      <td>4383.000000</td>\n",
       "      <td>4383.000000</td>\n",
       "      <td>4383.000000</td>\n",
       "      <td>4383.000000</td>\n",
       "    </tr>\n",
       "    <tr>\n",
       "      <th>mean</th>\n",
       "      <td>51.276067</td>\n",
       "      <td>0.081086</td>\n",
       "      <td>5.099703</td>\n",
       "      <td>2.883596</td>\n",
       "      <td>4.510221</td>\n",
       "    </tr>\n",
       "    <tr>\n",
       "      <th>std</th>\n",
       "      <td>16.316686</td>\n",
       "      <td>0.427672</td>\n",
       "      <td>1.104473</td>\n",
       "      <td>4.423841</td>\n",
       "      <td>6.096608</td>\n",
       "    </tr>\n",
       "    <tr>\n",
       "      <th>min</th>\n",
       "      <td>18.000000</td>\n",
       "      <td>0.000000</td>\n",
       "      <td>2.000000</td>\n",
       "      <td>0.000000</td>\n",
       "      <td>-21.800000</td>\n",
       "    </tr>\n",
       "    <tr>\n",
       "      <th>25%</th>\n",
       "      <td>39.600000</td>\n",
       "      <td>0.000000</td>\n",
       "      <td>4.000000</td>\n",
       "      <td>0.000000</td>\n",
       "      <td>0.200000</td>\n",
       "    </tr>\n",
       "    <tr>\n",
       "      <th>50%</th>\n",
       "      <td>46.700000</td>\n",
       "      <td>0.000000</td>\n",
       "      <td>5.000000</td>\n",
       "      <td>1.300000</td>\n",
       "      <td>4.900000</td>\n",
       "    </tr>\n",
       "    <tr>\n",
       "      <th>75%</th>\n",
       "      <td>61.100000</td>\n",
       "      <td>0.000000</td>\n",
       "      <td>6.000000</td>\n",
       "      <td>3.900000</td>\n",
       "      <td>9.200000</td>\n",
       "    </tr>\n",
       "    <tr>\n",
       "      <th>max</th>\n",
       "      <td>136.700000</td>\n",
       "      <td>6.800000</td>\n",
       "      <td>10.000000</td>\n",
       "      <td>64.400000</td>\n",
       "      <td>18.400000</td>\n",
       "    </tr>\n",
       "  </tbody>\n",
       "</table>\n",
       "</div>"
      ],
      "text/plain": [
       "       Dag.Max..windstoot..km.u.  DagMax..Sneeuw..cm.  \\\n",
       "count                4383.000000          4383.000000   \n",
       "mean                   51.276067             0.081086   \n",
       "std                    16.316686             0.427672   \n",
       "min                    18.000000             0.000000   \n",
       "25%                    39.600000             0.000000   \n",
       "50%                    46.700000             0.000000   \n",
       "75%                    61.100000             0.000000   \n",
       "max                   136.700000             6.800000   \n",
       "\n",
       "       DagMax..Windkracht..bft.  DagMax.Neerslag..mm.uur.  \\\n",
       "count               4383.000000               4383.000000   \n",
       "mean                   5.099703                  2.883596   \n",
       "std                    1.104473                  4.423841   \n",
       "min                    2.000000                  0.000000   \n",
       "25%                    4.000000                  0.000000   \n",
       "50%                    5.000000                  1.300000   \n",
       "75%                    6.000000                  3.900000   \n",
       "max                   10.000000                 64.400000   \n",
       "\n",
       "       DagMin.Temp..1.5m..C.  \n",
       "count            4383.000000  \n",
       "mean                4.510221  \n",
       "std                 6.096608  \n",
       "min               -21.800000  \n",
       "25%                 0.200000  \n",
       "50%                 4.900000  \n",
       "75%                 9.200000  \n",
       "max                18.400000  "
      ]
     },
     "metadata": {},
     "output_type": "display_data"
    }
   ],
   "source": [
    "# Display a description of the dataset\n",
    "display(dataset2.describe())"
   ]
  },
  {
   "cell_type": "code",
   "execution_count": 7,
   "metadata": {},
   "outputs": [
    {
     "data": {
      "text/html": [
       "<div>\n",
       "<style scoped>\n",
       "    .dataframe tbody tr th:only-of-type {\n",
       "        vertical-align: middle;\n",
       "    }\n",
       "\n",
       "    .dataframe tbody tr th {\n",
       "        vertical-align: top;\n",
       "    }\n",
       "\n",
       "    .dataframe thead th {\n",
       "        text-align: right;\n",
       "    }\n",
       "</style>\n",
       "<table border=\"1\" class=\"dataframe\">\n",
       "  <thead>\n",
       "    <tr style=\"text-align: right;\">\n",
       "      <th></th>\n",
       "      <th>Datum</th>\n",
       "      <th>Punctuality</th>\n",
       "      <th>Uitval</th>\n",
       "      <th>Dag.Max..windstoot..km.u.</th>\n",
       "      <th>DagMax..Sneeuw..cm.</th>\n",
       "      <th>DagMax..Windkracht..bft.</th>\n",
       "      <th>DagMax.Neerslag..mm.uur.</th>\n",
       "      <th>DagMin.Temp..1.5m..C.</th>\n",
       "    </tr>\n",
       "  </thead>\n",
       "  <tbody>\n",
       "    <tr>\n",
       "      <th>0</th>\n",
       "      <td>06-07-2008</td>\n",
       "      <td>91.024860</td>\n",
       "      <td>2.057339</td>\n",
       "      <td>61.1</td>\n",
       "      <td>0.0</td>\n",
       "      <td>5</td>\n",
       "      <td>3.0</td>\n",
       "      <td>12.4</td>\n",
       "    </tr>\n",
       "    <tr>\n",
       "      <th>1</th>\n",
       "      <td>07-07-2008</td>\n",
       "      <td>87.288559</td>\n",
       "      <td>1.797290</td>\n",
       "      <td>68.3</td>\n",
       "      <td>0.0</td>\n",
       "      <td>6</td>\n",
       "      <td>6.3</td>\n",
       "      <td>12.3</td>\n",
       "    </tr>\n",
       "    <tr>\n",
       "      <th>2</th>\n",
       "      <td>08-07-2008</td>\n",
       "      <td>89.441957</td>\n",
       "      <td>1.308944</td>\n",
       "      <td>68.3</td>\n",
       "      <td>0.0</td>\n",
       "      <td>6</td>\n",
       "      <td>14.4</td>\n",
       "      <td>11.3</td>\n",
       "    </tr>\n",
       "    <tr>\n",
       "      <th>3</th>\n",
       "      <td>09-07-2008</td>\n",
       "      <td>82.830959</td>\n",
       "      <td>1.800605</td>\n",
       "      <td>61.1</td>\n",
       "      <td>0.0</td>\n",
       "      <td>6</td>\n",
       "      <td>10.4</td>\n",
       "      <td>10.5</td>\n",
       "    </tr>\n",
       "    <tr>\n",
       "      <th>4</th>\n",
       "      <td>10-07-2008</td>\n",
       "      <td>80.569308</td>\n",
       "      <td>1.493777</td>\n",
       "      <td>50.3</td>\n",
       "      <td>0.0</td>\n",
       "      <td>5</td>\n",
       "      <td>10.0</td>\n",
       "      <td>13.9</td>\n",
       "    </tr>\n",
       "  </tbody>\n",
       "</table>\n",
       "</div>"
      ],
      "text/plain": [
       "        Datum  Punctuality    Uitval  Dag.Max..windstoot..km.u.  \\\n",
       "0  06-07-2008    91.024860  2.057339                       61.1   \n",
       "1  07-07-2008    87.288559  1.797290                       68.3   \n",
       "2  08-07-2008    89.441957  1.308944                       68.3   \n",
       "3  09-07-2008    82.830959  1.800605                       61.1   \n",
       "4  10-07-2008    80.569308  1.493777                       50.3   \n",
       "\n",
       "   DagMax..Sneeuw..cm.  DagMax..Windkracht..bft.  DagMax.Neerslag..mm.uur.  \\\n",
       "0                  0.0                         5                       3.0   \n",
       "1                  0.0                         6                       6.3   \n",
       "2                  0.0                         6                      14.4   \n",
       "3                  0.0                         6                      10.4   \n",
       "4                  0.0                         5                      10.0   \n",
       "\n",
       "   DagMin.Temp..1.5m..C.  \n",
       "0                   12.4  \n",
       "1                   12.3  \n",
       "2                   11.3  \n",
       "3                   10.5  \n",
       "4                   13.9  "
      ]
     },
     "execution_count": 7,
     "metadata": {},
     "output_type": "execute_result"
    }
   ],
   "source": [
    "# Merging the datasets to have one\n",
    "\n",
    "dataset_improved = dataset1.merge(dataset2, on='Datum', how='left')\n",
    "\n",
    "dataset_improved.head()\n",
    "                      "
   ]
  },
  {
   "cell_type": "code",
   "execution_count": 8,
   "metadata": {},
   "outputs": [
    {
     "name": "stdout",
     "output_type": "stream",
     "text": [
      "dataset_improved dimensions: (1974, 8)\n"
     ]
    }
   ],
   "source": [
    "print('dataset_improved dimensions:', dataset_improved.shape)"
   ]
  },
  {
   "cell_type": "markdown",
   "metadata": {},
   "source": [
    "### Observation:\n",
    " *There are two output variables but we are going to predict one: puctuality,\n",
    " \n",
    " *There are five predictors,\n",
    " \n",
    " *One predictor has its value as an integer while other predictors' values are float.\n",
    " \n"
   ]
  },
  {
   "cell_type": "markdown",
   "metadata": {},
   "source": [
    "#### My intuition??\n",
    "Yes, the weather has in influence on the punctuality of trains. The temperature for instance:"
   ]
  },
  {
   "cell_type": "code",
   "execution_count": 10,
   "metadata": {},
   "outputs": [
    {
     "data": {
      "image/png": "[encoded data removed]",
      "text/plain": [
       "<Figure size 432x288 with 1 Axes>"
      ]
     },
     "metadata": {},
     "output_type": "display_data"
    }
   ],
   "source": [
    "import numpy as np\n",
    "import matplotlib.pyplot as plt\n",
    "\n",
    "#Data\n",
    "n_groups = 2\n",
    "DagMinTemp = (-21.8, 15.8)\n",
    "Punctualiteit = (57.92, 88.20)\n",
    "\n",
    "# create plot\n",
    "fig, ax = plt.subplots()\n",
    "index = np.arange(n_groups)\n",
    "bar_width = 0.35\n",
    "opacity = 0.8\n",
    "\n",
    "rects1 = plt.bar(index, DagMinTemp, bar_width,\n",
    "                 alpha=opacity,\n",
    "                 color='b',\n",
    "                 label='Temp.')\n",
    "\n",
    "rects2 = plt.bar(index + bar_width, Punctualiteit, bar_width,\n",
    "                 alpha=opacity,\n",
    "                 color='g',\n",
    "                 label='Punct.')\n",
    "\n",
    "plt.xlabel('Datum')\n",
    "plt.ylabel('Values')\n",
    "plt.title('Values vs datum')\n",
    "plt.xticks(index + bar_width, ('04-02-2012', '19-06-2013'))\n",
    "plt.legend()\n",
    " \n",
    "plt.tight_layout()\n",
    "plt.show()\n",
    " "
   ]
  },
  {
   "cell_type": "markdown",
   "metadata": {},
   "source": [
    "#### Analyse"
   ]
  },
  {
   "cell_type": "code",
   "execution_count": 11,
   "metadata": {},
   "outputs": [
    {
     "data": {
      "text/html": [
       "<div>\n",
       "<style scoped>\n",
       "    .dataframe tbody tr th:only-of-type {\n",
       "        vertical-align: middle;\n",
       "    }\n",
       "\n",
       "    .dataframe tbody tr th {\n",
       "        vertical-align: top;\n",
       "    }\n",
       "\n",
       "    .dataframe thead th {\n",
       "        text-align: right;\n",
       "    }\n",
       "</style>\n",
       "<table border=\"1\" class=\"dataframe\">\n",
       "  <thead>\n",
       "    <tr style=\"text-align: right;\">\n",
       "      <th></th>\n",
       "      <th>Dag.Max..windstoot..km.u.</th>\n",
       "      <th>DagMax..Sneeuw..cm.</th>\n",
       "      <th>DagMax..Windkracht..bft.</th>\n",
       "      <th>DagMax.Neerslag..mm.uur.</th>\n",
       "      <th>DagMin.Temp..1.5m..C.</th>\n",
       "    </tr>\n",
       "  </thead>\n",
       "  <tbody>\n",
       "    <tr>\n",
       "      <th>0</th>\n",
       "      <td>61.1</td>\n",
       "      <td>0.0</td>\n",
       "      <td>5</td>\n",
       "      <td>3.0</td>\n",
       "      <td>12.4</td>\n",
       "    </tr>\n",
       "    <tr>\n",
       "      <th>1</th>\n",
       "      <td>68.3</td>\n",
       "      <td>0.0</td>\n",
       "      <td>6</td>\n",
       "      <td>6.3</td>\n",
       "      <td>12.3</td>\n",
       "    </tr>\n",
       "    <tr>\n",
       "      <th>2</th>\n",
       "      <td>68.3</td>\n",
       "      <td>0.0</td>\n",
       "      <td>6</td>\n",
       "      <td>14.4</td>\n",
       "      <td>11.3</td>\n",
       "    </tr>\n",
       "    <tr>\n",
       "      <th>3</th>\n",
       "      <td>61.1</td>\n",
       "      <td>0.0</td>\n",
       "      <td>6</td>\n",
       "      <td>10.4</td>\n",
       "      <td>10.5</td>\n",
       "    </tr>\n",
       "    <tr>\n",
       "      <th>4</th>\n",
       "      <td>50.3</td>\n",
       "      <td>0.0</td>\n",
       "      <td>5</td>\n",
       "      <td>10.0</td>\n",
       "      <td>13.9</td>\n",
       "    </tr>\n",
       "  </tbody>\n",
       "</table>\n",
       "</div>"
      ],
      "text/plain": [
       "   Dag.Max..windstoot..km.u.  DagMax..Sneeuw..cm.  DagMax..Windkracht..bft.  \\\n",
       "0                       61.1                  0.0                         5   \n",
       "1                       68.3                  0.0                         6   \n",
       "2                       68.3                  0.0                         6   \n",
       "3                       61.1                  0.0                         6   \n",
       "4                       50.3                  0.0                         5   \n",
       "\n",
       "   DagMax.Neerslag..mm.uur.  DagMin.Temp..1.5m..C.  \n",
       "0                       3.0                   12.4  \n",
       "1                       6.3                   12.3  \n",
       "2                      14.4                   11.3  \n",
       "3                      10.4                   10.5  \n",
       "4                      10.0                   13.9  "
      ]
     },
     "execution_count": 11,
     "metadata": {},
     "output_type": "execute_result"
    }
   ],
   "source": [
    "# What about the other predictors?\n",
    "X_data = dataset_improved.iloc[:,3:]\n",
    "X_data.head()"
   ]
  },
  {
   "cell_type": "code",
   "execution_count": 49,
   "metadata": {},
   "outputs": [
    {
     "name": "stdout",
     "output_type": "stream",
     "text": [
      "0.051096230176050805\n"
     ]
    }
   ],
   "source": [
    "from sklearn.cross_validation import train_test_split\n",
    "#from sklearn.linear_model import LinearRegression\n",
    "from sklearn.tree import DecisionTreeRegressor\n",
    "from sklearn.metrics import r2_score\n",
    "\n",
    "new_data = X_data.copy()\n",
    "new_raw = new_data['DagMin.Temp..1.5m..C.']\n",
    "new_data.drop(['DagMin.Temp..1.5m..C.'], axis=1, inplace = True)\n",
    "#new_data.head()\n",
    "\n",
    "# Split the data into training and testing sets using the given feature as the target\n",
    "X_train, X_test, y_train, y_test = train_test_split(new_data, new_raw, test_size=0.25, random_state=0)\n",
    "\n",
    "# Create a decision tree regressor and fit it to the training set\n",
    "regressor = DecisionTreeRegressor(random_state = 0)\n",
    "regressor.fit(X_train, y_train)\n",
    "\n",
    "#Report the score of the prediction using the testing set\n",
    "score = regressor.score(X_test, y_test)\n",
    "print (score)"
   ]
  },
  {
   "cell_type": "markdown",
   "metadata": {},
   "source": [
    "Samenvatting\n",
    "\n",
    "The variable 'DagMin.Temp..1.5m..C ..' does affect the punctuality of the transport. coefficient of determination is 0.0511 meaning only 5.11% of the variations of the y-values is eliminated by the regression model and 94.89% has remained and that is too much much. It is then clearly still valuable to the prediction.\n",
    "\n"
   ]
  },
  {
   "cell_type": "code",
   "execution_count": 13,
   "metadata": {},
   "outputs": [
    {
     "data": {
      "image/png": "[encoded data removed]",
      "text/plain": [
       "<Figure size 432x288 with 1 Axes>"
      ]
     },
     "metadata": {},
     "output_type": "display_data"
    }
   ],
   "source": [
    "#Other wariables\n",
    "import numpy as np\n",
    "import matplotlib.pyplot as plt\n",
    "\n",
    "#Data\n",
    "n_groups = 5\n",
    "Variabelen_R2score= (65.46, 66.22,61.97,-73.26,5.22)\n",
    "Verschil = (34.54, 33.75, 38.03, -26.74, 94.78)\n",
    "\n",
    "#DagMaxWindst = (65.46)\n",
    "#DagMaxsneeuw = (66.22)\n",
    "#DagMaxWindK = (61.97)\n",
    "#DagMaxneerslag = (-73.26)\n",
    "#DagMinTemp = (-21.8, 15.8)\n",
    "\n",
    "\n",
    "# create plot\n",
    "fig, ax = plt.subplots()\n",
    "index = np.arange(n_groups)\n",
    "bar_width = 0.38\n",
    "opacity = 0.8\n",
    "\n",
    "rects1 = plt.bar(index, Variabelen_R2score, bar_width,\n",
    "                 alpha=opacity,\n",
    "                 color='r',\n",
    "                 label='Variabelen_R^2score')\n",
    "\n",
    "rects2 = plt.bar(index + bar_width, Verschil, bar_width,\n",
    "                 alpha=opacity,\n",
    "                 color='g',\n",
    "                 label='Het vershil')\n",
    "\n",
    "\n",
    "plt.xlabel('Variabelen')\n",
    "plt.ylabel('Values')\n",
    "plt.title('R^2-Score van variabelen')\n",
    "plt.xticks(index + bar_width, ('MaxWindst', 'Maxsneeuw', 'MaxWindK', 'Maxneerslag', 'MinTemp'))\n",
    "plt.legend()\n",
    " \n",
    "plt.tight_layout()\n",
    "plt.show()\n",
    " "
   ]
  },
  {
   "cell_type": "code",
   "execution_count": 15,
   "metadata": {},
   "outputs": [
    {
     "data": {
      "image/png": "[encoded data removed]",
      "text/plain": [
       "<Figure size 1008x576 with 25 Axes>"
      ]
     },
     "metadata": {},
     "output_type": "display_data"
    }
   ],
   "source": [
    "#If you found that the feature you attempted to predict above is relevant for identifying a specific customer, then the scatter matrix below may not show any correlation between that feature and the others.\n",
    "# Scatter matrix\n",
    "pd.plotting.scatter_matrix(X_data, alpha = 0.3, figsize = (14,8), diagonal = 'kde');"
   ]
  },
  {
   "cell_type": "markdown",
   "metadata": {},
   "source": [
    "This does confirm my suspicion about the relevance of ‘DagMin.Temp..1.5..C’ feature: it does not show any degree of correlation with other features and is therefore necessary for indentifying customers' spending habits as explained above."
   ]
  },
  {
   "cell_type": "code",
   "execution_count": 16,
   "metadata": {},
   "outputs": [
    {
     "data": {
      "text/html": [
       "<div>\n",
       "<style scoped>\n",
       "    .dataframe tbody tr th:only-of-type {\n",
       "        vertical-align: middle;\n",
       "    }\n",
       "\n",
       "    .dataframe tbody tr th {\n",
       "        vertical-align: top;\n",
       "    }\n",
       "\n",
       "    .dataframe thead th {\n",
       "        text-align: right;\n",
       "    }\n",
       "</style>\n",
       "<table border=\"1\" class=\"dataframe\">\n",
       "  <thead>\n",
       "    <tr style=\"text-align: right;\">\n",
       "      <th></th>\n",
       "      <th>Dag.Max..windstoot..km.u.</th>\n",
       "      <th>DagMax..Sneeuw..cm.</th>\n",
       "      <th>DagMax..Windkracht..bft.</th>\n",
       "      <th>DagMax.Neerslag..mm.uur.</th>\n",
       "      <th>DagMin.Temp..1.5m..C.</th>\n",
       "    </tr>\n",
       "  </thead>\n",
       "  <tbody>\n",
       "    <tr>\n",
       "      <th>Dag.Max..windstoot..km.u.</th>\n",
       "      <td>1.000000</td>\n",
       "      <td>0.057649</td>\n",
       "      <td>0.882273</td>\n",
       "      <td>0.443229</td>\n",
       "      <td>0.188521</td>\n",
       "    </tr>\n",
       "    <tr>\n",
       "      <th>DagMax..Sneeuw..cm.</th>\n",
       "      <td>0.057649</td>\n",
       "      <td>1.000000</td>\n",
       "      <td>0.058263</td>\n",
       "      <td>-0.010146</td>\n",
       "      <td>-0.342607</td>\n",
       "    </tr>\n",
       "    <tr>\n",
       "      <th>DagMax..Windkracht..bft.</th>\n",
       "      <td>0.882273</td>\n",
       "      <td>0.058263</td>\n",
       "      <td>1.000000</td>\n",
       "      <td>0.339043</td>\n",
       "      <td>0.134671</td>\n",
       "    </tr>\n",
       "    <tr>\n",
       "      <th>DagMax.Neerslag..mm.uur.</th>\n",
       "      <td>0.443229</td>\n",
       "      <td>-0.010146</td>\n",
       "      <td>0.339043</td>\n",
       "      <td>1.000000</td>\n",
       "      <td>0.398704</td>\n",
       "    </tr>\n",
       "    <tr>\n",
       "      <th>DagMin.Temp..1.5m..C.</th>\n",
       "      <td>0.188521</td>\n",
       "      <td>-0.342607</td>\n",
       "      <td>0.134671</td>\n",
       "      <td>0.398704</td>\n",
       "      <td>1.000000</td>\n",
       "    </tr>\n",
       "  </tbody>\n",
       "</table>\n",
       "</div>"
      ],
      "text/plain": [
       "                           Dag.Max..windstoot..km.u.  DagMax..Sneeuw..cm.  \\\n",
       "Dag.Max..windstoot..km.u.                   1.000000             0.057649   \n",
       "DagMax..Sneeuw..cm.                         0.057649             1.000000   \n",
       "DagMax..Windkracht..bft.                    0.882273             0.058263   \n",
       "DagMax.Neerslag..mm.uur.                    0.443229            -0.010146   \n",
       "DagMin.Temp..1.5m..C.                       0.188521            -0.342607   \n",
       "\n",
       "                           DagMax..Windkracht..bft.  DagMax.Neerslag..mm.uur.  \\\n",
       "Dag.Max..windstoot..km.u.                  0.882273                  0.443229   \n",
       "DagMax..Sneeuw..cm.                        0.058263                 -0.010146   \n",
       "DagMax..Windkracht..bft.                   1.000000                  0.339043   \n",
       "DagMax.Neerslag..mm.uur.                   0.339043                  1.000000   \n",
       "DagMin.Temp..1.5m..C.                      0.134671                  0.398704   \n",
       "\n",
       "                           DagMin.Temp..1.5m..C.  \n",
       "Dag.Max..windstoot..km.u.               0.188521  \n",
       "DagMax..Sneeuw..cm.                    -0.342607  \n",
       "DagMax..Windkracht..bft.                0.134671  \n",
       "DagMax.Neerslag..mm.uur.                0.398704  \n",
       "DagMin.Temp..1.5m..C.                   1.000000  "
      ]
     },
     "execution_count": 16,
     "metadata": {},
     "output_type": "execute_result"
    }
   ],
   "source": [
    "X_data.corr()"
   ]
  },
  {
   "cell_type": "markdown",
   "metadata": {},
   "source": [
    "### Variables preprocessing\n"
   ]
  },
  {
   "cell_type": "code",
   "execution_count": 18,
   "metadata": {},
   "outputs": [
    {
     "data": {
      "image/png": "[encoded data removed]",
      "text/plain": [
       "<Figure size 1440x720 with 2 Axes>"
      ]
     },
     "metadata": {},
     "output_type": "display_data"
    }
   ],
   "source": [
    "#Scaling\n",
    "from sklearn.preprocessing import RobustScaler\n",
    "from sklearn import preprocessing\n",
    "import matplotlib\n",
    "import matplotlib.pyplot as plt\n",
    "import seaborn as sns\n",
    "%matplotlib inline\n",
    "matplotlib.style.use('ggplot')\n",
    "\n",
    "\n",
    "df = X_data\n",
    "#df.head()\n",
    "\n",
    "scaler = preprocessing.RobustScaler()\n",
    "\n",
    "scaled_df = scaler.fit_transform(df)\n",
    "#type(scaled_df)\n",
    "scaled_df = pd.DataFrame(scaled_df, columns=['Dag.Max..windstoot..km.u.', 'DagMax..Sneeuw..cm.', 'DagMax..Windkracht..bft.', 'DagMax.Neerslag..mm.uur.', 'DagMin.Temp..1.5m..C.'])\n",
    "#scaled_df.head()\n",
    "fig, (ax1, ax2) = plt.subplots(ncols=2, figsize=(20, 10))\n",
    "\n",
    "ax1.set_title('Before Scaling')\n",
    "sns.kdeplot(df['Dag.Max..windstoot..km.u.'], ax=ax1)\n",
    "sns.kdeplot(df['DagMax..Sneeuw..cm.'], ax=ax1)\n",
    "sns.kdeplot(df['DagMax..Windkracht..bft.'], ax=ax1)\n",
    "sns.kdeplot(df['DagMax.Neerslag..mm.uur.'], ax=ax1)\n",
    "sns.kdeplot(df['DagMin.Temp..1.5m..C.'], ax=ax1)\n",
    "\n",
    "ax2.set_title('After Robust Scaler')\n",
    "sns.kdeplot(scaled_df['Dag.Max..windstoot..km.u.'], ax=ax2)\n",
    "sns.kdeplot(scaled_df['DagMax..Sneeuw..cm.'], ax=ax2)\n",
    "sns.kdeplot(scaled_df['DagMax..Windkracht..bft.'], ax=ax2)\n",
    "sns.kdeplot(scaled_df['DagMax.Neerslag..mm.uur.'], ax=ax2)\n",
    "sns.kdeplot(scaled_df['DagMin.Temp..1.5m..C.'], ax=ax2)\n",
    "plt.show()"
   ]
  },
  {
   "cell_type": "code",
   "execution_count": 52,
   "metadata": {},
   "outputs": [
    {
     "data": {
      "text/html": [
       "<div>\n",
       "<style scoped>\n",
       "    .dataframe tbody tr th:only-of-type {\n",
       "        vertical-align: middle;\n",
       "    }\n",
       "\n",
       "    .dataframe tbody tr th {\n",
       "        vertical-align: top;\n",
       "    }\n",
       "\n",
       "    .dataframe thead th {\n",
       "        text-align: right;\n",
       "    }\n",
       "</style>\n",
       "<table border=\"1\" class=\"dataframe\">\n",
       "  <thead>\n",
       "    <tr style=\"text-align: right;\">\n",
       "      <th></th>\n",
       "      <th>Dag.Max..windstoot..km.u.</th>\n",
       "      <th>DagMax..Sneeuw..cm.</th>\n",
       "      <th>DagMax..Windkracht..bft.</th>\n",
       "      <th>DagMax.Neerslag..mm.uur.</th>\n",
       "      <th>DagMin.Temp..1.5m..C.</th>\n",
       "    </tr>\n",
       "  </thead>\n",
       "  <tbody>\n",
       "    <tr>\n",
       "      <th>0</th>\n",
       "      <td>0.502326</td>\n",
       "      <td>0.0</td>\n",
       "      <td>0.0</td>\n",
       "      <td>0.400</td>\n",
       "      <td>0.817204</td>\n",
       "    </tr>\n",
       "    <tr>\n",
       "      <th>1</th>\n",
       "      <td>0.837209</td>\n",
       "      <td>0.0</td>\n",
       "      <td>0.5</td>\n",
       "      <td>1.225</td>\n",
       "      <td>0.806452</td>\n",
       "    </tr>\n",
       "    <tr>\n",
       "      <th>2</th>\n",
       "      <td>0.837209</td>\n",
       "      <td>0.0</td>\n",
       "      <td>0.5</td>\n",
       "      <td>3.250</td>\n",
       "      <td>0.698925</td>\n",
       "    </tr>\n",
       "    <tr>\n",
       "      <th>3</th>\n",
       "      <td>0.502326</td>\n",
       "      <td>0.0</td>\n",
       "      <td>0.5</td>\n",
       "      <td>2.250</td>\n",
       "      <td>0.612903</td>\n",
       "    </tr>\n",
       "    <tr>\n",
       "      <th>4</th>\n",
       "      <td>0.000000</td>\n",
       "      <td>0.0</td>\n",
       "      <td>0.0</td>\n",
       "      <td>2.150</td>\n",
       "      <td>0.978495</td>\n",
       "    </tr>\n",
       "  </tbody>\n",
       "</table>\n",
       "</div>"
      ],
      "text/plain": [
       "   Dag.Max..windstoot..km.u.  DagMax..Sneeuw..cm.  DagMax..Windkracht..bft.  \\\n",
       "0                   0.502326                  0.0                       0.0   \n",
       "1                   0.837209                  0.0                       0.5   \n",
       "2                   0.837209                  0.0                       0.5   \n",
       "3                   0.502326                  0.0                       0.5   \n",
       "4                   0.000000                  0.0                       0.0   \n",
       "\n",
       "   DagMax.Neerslag..mm.uur.  DagMin.Temp..1.5m..C.  \n",
       "0                     0.400               0.817204  \n",
       "1                     1.225               0.806452  \n",
       "2                     3.250               0.698925  \n",
       "3                     2.250               0.612903  \n",
       "4                     2.150               0.978495  "
      ]
     },
     "execution_count": 52,
     "metadata": {},
     "output_type": "execute_result"
    }
   ],
   "source": [
    "scaled_df.head()"
   ]
  },
  {
   "cell_type": "code",
   "execution_count": 53,
   "metadata": {},
   "outputs": [
    {
     "data": {
      "text/html": [
       "<div>\n",
       "<style scoped>\n",
       "    .dataframe tbody tr th:only-of-type {\n",
       "        vertical-align: middle;\n",
       "    }\n",
       "\n",
       "    .dataframe tbody tr th {\n",
       "        vertical-align: top;\n",
       "    }\n",
       "\n",
       "    .dataframe thead th {\n",
       "        text-align: right;\n",
       "    }\n",
       "</style>\n",
       "<table border=\"1\" class=\"dataframe\">\n",
       "  <thead>\n",
       "    <tr style=\"text-align: right;\">\n",
       "      <th></th>\n",
       "      <th>Dag.Max..windstoot..km.u.</th>\n",
       "      <th>DagMax..Sneeuw..cm.</th>\n",
       "      <th>DagMax..Windkracht..bft.</th>\n",
       "      <th>DagMax.Neerslag..mm.uur.</th>\n",
       "      <th>DagMin.Temp..1.5m..C.</th>\n",
       "    </tr>\n",
       "  </thead>\n",
       "  <tbody>\n",
       "    <tr>\n",
       "      <th>Dag.Max..windstoot..km.u.</th>\n",
       "      <td>1.000000</td>\n",
       "      <td>0.057649</td>\n",
       "      <td>0.882273</td>\n",
       "      <td>0.443229</td>\n",
       "      <td>0.188521</td>\n",
       "    </tr>\n",
       "    <tr>\n",
       "      <th>DagMax..Sneeuw..cm.</th>\n",
       "      <td>0.057649</td>\n",
       "      <td>1.000000</td>\n",
       "      <td>0.058263</td>\n",
       "      <td>-0.010146</td>\n",
       "      <td>-0.342607</td>\n",
       "    </tr>\n",
       "    <tr>\n",
       "      <th>DagMax..Windkracht..bft.</th>\n",
       "      <td>0.882273</td>\n",
       "      <td>0.058263</td>\n",
       "      <td>1.000000</td>\n",
       "      <td>0.339043</td>\n",
       "      <td>0.134671</td>\n",
       "    </tr>\n",
       "    <tr>\n",
       "      <th>DagMax.Neerslag..mm.uur.</th>\n",
       "      <td>0.443229</td>\n",
       "      <td>-0.010146</td>\n",
       "      <td>0.339043</td>\n",
       "      <td>1.000000</td>\n",
       "      <td>0.398704</td>\n",
       "    </tr>\n",
       "    <tr>\n",
       "      <th>DagMin.Temp..1.5m..C.</th>\n",
       "      <td>0.188521</td>\n",
       "      <td>-0.342607</td>\n",
       "      <td>0.134671</td>\n",
       "      <td>0.398704</td>\n",
       "      <td>1.000000</td>\n",
       "    </tr>\n",
       "  </tbody>\n",
       "</table>\n",
       "</div>"
      ],
      "text/plain": [
       "                           Dag.Max..windstoot..km.u.  DagMax..Sneeuw..cm.  \\\n",
       "Dag.Max..windstoot..km.u.                   1.000000             0.057649   \n",
       "DagMax..Sneeuw..cm.                         0.057649             1.000000   \n",
       "DagMax..Windkracht..bft.                    0.882273             0.058263   \n",
       "DagMax.Neerslag..mm.uur.                    0.443229            -0.010146   \n",
       "DagMin.Temp..1.5m..C.                       0.188521            -0.342607   \n",
       "\n",
       "                           DagMax..Windkracht..bft.  DagMax.Neerslag..mm.uur.  \\\n",
       "Dag.Max..windstoot..km.u.                  0.882273                  0.443229   \n",
       "DagMax..Sneeuw..cm.                        0.058263                 -0.010146   \n",
       "DagMax..Windkracht..bft.                   1.000000                  0.339043   \n",
       "DagMax.Neerslag..mm.uur.                   0.339043                  1.000000   \n",
       "DagMin.Temp..1.5m..C.                      0.134671                  0.398704   \n",
       "\n",
       "                           DagMin.Temp..1.5m..C.  \n",
       "Dag.Max..windstoot..km.u.               0.188521  \n",
       "DagMax..Sneeuw..cm.                    -0.342607  \n",
       "DagMax..Windkracht..bft.                0.134671  \n",
       "DagMax.Neerslag..mm.uur.                0.398704  \n",
       "DagMin.Temp..1.5m..C.                   1.000000  "
      ]
     },
     "execution_count": 53,
     "metadata": {},
     "output_type": "execute_result"
    }
   ],
   "source": [
    "\n",
    "scaled_df.corr()"
   ]
  },
  {
   "cell_type": "markdown",
   "metadata": {},
   "source": [
    "## Outliers detection\n",
    "\n"
   ]
  },
  {
   "cell_type": "code",
   "execution_count": 54,
   "metadata": {},
   "outputs": [
    {
     "data": {
      "text/plain": [
       "(1974, 5)"
      ]
     },
     "execution_count": 54,
     "metadata": {},
     "output_type": "execute_result"
    }
   ],
   "source": [
    "X = scaled_df\n",
    "#X[:4]\n",
    "#X.head()\n",
    "X.shape\n",
    "#type(X)"
   ]
  },
  {
   "cell_type": "code",
   "execution_count": 55,
   "metadata": {},
   "outputs": [
    {
     "name": "stdout",
     "output_type": "stream",
     "text": [
      "Dag.Max..windstoot..km.u.    1.0\n",
      "DagMax..Sneeuw..cm.          0.0\n",
      "DagMax..Windkracht..bft.     1.0\n",
      "DagMax.Neerslag..mm.uur.     1.0\n",
      "DagMin.Temp..1.5m..C.        1.0\n",
      "dtype: float64\n"
     ]
    }
   ],
   "source": [
    "#Interquartile Range(IQR) \n",
    "\n",
    "\n",
    "Q1 = X.quantile(0.25)\n",
    "Q3 = X.quantile(0.75)\n",
    "IQR = Q3 - Q1\n",
    "print(IQR)"
   ]
  },
  {
   "cell_type": "code",
   "execution_count": 26,
   "metadata": {},
   "outputs": [
    {
     "name": "stdout",
     "output_type": "stream",
     "text": [
      "      Dag.Max..windstoot..km.u.  DagMax..Sneeuw..cm.  \\\n",
      "0                         False                False   \n",
      "1                         False                False   \n",
      "2                         False                False   \n",
      "3                         False                False   \n",
      "4                         False                False   \n",
      "5                         False                False   \n",
      "6                         False                False   \n",
      "7                         False                False   \n",
      "8                         False                False   \n",
      "9                         False                False   \n",
      "10                        False                False   \n",
      "11                        False                False   \n",
      "12                        False                False   \n",
      "13                        False                False   \n",
      "14                        False                False   \n",
      "15                        False                False   \n",
      "16                        False                False   \n",
      "17                        False                False   \n",
      "18                        False                False   \n",
      "19                        False                False   \n",
      "20                        False                False   \n",
      "21                        False                False   \n",
      "22                        False                False   \n",
      "23                        False                False   \n",
      "24                        False                False   \n",
      "25                        False                False   \n",
      "26                        False                False   \n",
      "27                        False                False   \n",
      "28                        False                False   \n",
      "29                        False                False   \n",
      "...                         ...                  ...   \n",
      "1944                      False                False   \n",
      "1945                      False                False   \n",
      "1946                      False                False   \n",
      "1947                      False                False   \n",
      "1948                      False                False   \n",
      "1949                      False                False   \n",
      "1950                      False                False   \n",
      "1951                      False                False   \n",
      "1952                      False                False   \n",
      "1953                      False                False   \n",
      "1954                      False                False   \n",
      "1955                      False                False   \n",
      "1956                      False                False   \n",
      "1957                      False                False   \n",
      "1958                      False                False   \n",
      "1959                      False                False   \n",
      "1960                      False                False   \n",
      "1961                      False                False   \n",
      "1962                      False                False   \n",
      "1963                      False                False   \n",
      "1964                      False                False   \n",
      "1965                      False                False   \n",
      "1966                      False                False   \n",
      "1967                      False                False   \n",
      "1968                      False                False   \n",
      "1969                      False                False   \n",
      "1970                      False                False   \n",
      "1971                      False                False   \n",
      "1972                      False                False   \n",
      "1973                      False                False   \n",
      "\n",
      "      DagMax..Windkracht..bft.  DagMax.Neerslag..mm.uur.  \\\n",
      "0                        False                     False   \n",
      "1                        False                     False   \n",
      "2                        False                     False   \n",
      "3                        False                     False   \n",
      "4                        False                     False   \n",
      "5                        False                     False   \n",
      "6                        False                     False   \n",
      "7                        False                     False   \n",
      "8                        False                     False   \n",
      "9                        False                     False   \n",
      "10                       False                     False   \n",
      "11                       False                     False   \n",
      "12                       False                     False   \n",
      "13                       False                     False   \n",
      "14                       False                     False   \n",
      "15                       False                     False   \n",
      "16                       False                     False   \n",
      "17                       False                     False   \n",
      "18                       False                     False   \n",
      "19                       False                     False   \n",
      "20                       False                     False   \n",
      "21                       False                     False   \n",
      "22                       False                     False   \n",
      "23                       False                     False   \n",
      "24                       False                     False   \n",
      "25                       False                     False   \n",
      "26                       False                     False   \n",
      "27                       False                     False   \n",
      "28                       False                     False   \n",
      "29                       False                     False   \n",
      "...                        ...                       ...   \n",
      "1944                     False                     False   \n",
      "1945                     False                     False   \n",
      "1946                     False                     False   \n",
      "1947                     False                     False   \n",
      "1948                     False                     False   \n",
      "1949                     False                     False   \n",
      "1950                     False                     False   \n",
      "1951                     False                     False   \n",
      "1952                     False                     False   \n",
      "1953                     False                     False   \n",
      "1954                     False                     False   \n",
      "1955                     False                     False   \n",
      "1956                     False                     False   \n",
      "1957                     False                     False   \n",
      "1958                     False                     False   \n",
      "1959                     False                     False   \n",
      "1960                     False                     False   \n",
      "1961                     False                     False   \n",
      "1962                     False                     False   \n",
      "1963                     False                     False   \n",
      "1964                     False                     False   \n",
      "1965                     False                     False   \n",
      "1966                     False                     False   \n",
      "1967                     False                     False   \n",
      "1968                     False                     False   \n",
      "1969                     False                     False   \n",
      "1970                     False                     False   \n",
      "1971                     False                     False   \n",
      "1972                     False                     False   \n",
      "1973                     False                     False   \n",
      "\n",
      "      DagMin.Temp..1.5m..C.  \n",
      "0                     False  \n",
      "1                     False  \n",
      "2                     False  \n",
      "3                     False  \n",
      "4                     False  \n",
      "5                     False  \n",
      "6                     False  \n",
      "7                     False  \n",
      "8                     False  \n",
      "9                     False  \n",
      "10                    False  \n",
      "11                    False  \n",
      "12                    False  \n",
      "13                    False  \n",
      "14                    False  \n",
      "15                    False  \n",
      "16                    False  \n",
      "17                    False  \n",
      "18                    False  \n",
      "19                    False  \n",
      "20                    False  \n",
      "21                    False  \n",
      "22                    False  \n",
      "23                    False  \n",
      "24                    False  \n",
      "25                    False  \n",
      "26                    False  \n",
      "27                    False  \n",
      "28                    False  \n",
      "29                    False  \n",
      "...                     ...  \n",
      "1944                  False  \n",
      "1945                  False  \n",
      "1946                  False  \n",
      "1947                  False  \n",
      "1948                  False  \n",
      "1949                  False  \n",
      "1950                  False  \n",
      "1951                  False  \n",
      "1952                  False  \n",
      "1953                  False  \n",
      "1954                  False  \n",
      "1955                  False  \n",
      "1956                  False  \n",
      "1957                  False  \n",
      "1958                  False  \n",
      "1959                  False  \n",
      "1960                  False  \n",
      "1961                  False  \n",
      "1962                  False  \n",
      "1963                  False  \n",
      "1964                  False  \n",
      "1965                  False  \n",
      "1966                  False  \n",
      "1967                  False  \n",
      "1968                  False  \n",
      "1969                  False  \n",
      "1970                  False  \n",
      "1971                  False  \n",
      "1972                  False  \n",
      "1973                  False  \n",
      "\n",
      "[1974 rows x 5 columns]\n"
     ]
    },
    {
     "ename": "TypeError",
     "evalue": "Could not compare [None] with block values",
     "output_type": "error",
     "traceback": [
      "\u001b[1;31m---------------------------------------------------------------------------\u001b[0m",
      "\u001b[1;31mTypeError\u001b[0m                                 Traceback (most recent call last)",
      "\u001b[1;32m<ipython-input-26-6fb33c42e267>\u001b[0m in \u001b[0;36m<module>\u001b[1;34m()\u001b[0m\n\u001b[0;32m      1\u001b[0m \u001b[1;31m#The below code will give an output with some true and false values. The data point where we have False that means these values are valid whereas True indicates presence of an outlier.\u001b[0m\u001b[1;33m\u001b[0m\u001b[1;33m\u001b[0m\u001b[0m\n\u001b[1;32m----> 2\u001b[1;33m \u001b[0mprint\u001b[0m\u001b[1;33m(\u001b[0m\u001b[0mX\u001b[0m \u001b[1;33m<\u001b[0m \u001b[1;33m(\u001b[0m\u001b[0mQ1\u001b[0m \u001b[1;33m-\u001b[0m \u001b[1;36m1.5\u001b[0m \u001b[1;33m*\u001b[0m \u001b[0mIQR\u001b[0m\u001b[1;33m)\u001b[0m\u001b[1;33m)\u001b[0m \u001b[1;33m|\u001b[0m\u001b[1;33m(\u001b[0m\u001b[0mX\u001b[0m \u001b[1;33m>\u001b[0m \u001b[1;33m(\u001b[0m\u001b[0mQ3\u001b[0m \u001b[1;33m+\u001b[0m \u001b[1;36m1.5\u001b[0m \u001b[1;33m*\u001b[0m \u001b[0mIQR\u001b[0m\u001b[1;33m)\u001b[0m\u001b[1;33m)\u001b[0m\u001b[1;33m\u001b[0m\u001b[0m\n\u001b[0m",
      "\u001b[1;32m~\\Anaconda3\\lib\\site-packages\\pandas\\core\\ops.py\u001b[0m in \u001b[0;36mf\u001b[1;34m(self, other, axis, level, fill_value)\u001b[0m\n\u001b[0;32m   1557\u001b[0m                 \u001b[0mself\u001b[0m \u001b[1;33m=\u001b[0m \u001b[0mself\u001b[0m\u001b[1;33m.\u001b[0m\u001b[0mfillna\u001b[0m\u001b[1;33m(\u001b[0m\u001b[0mfill_value\u001b[0m\u001b[1;33m)\u001b[0m\u001b[1;33m\u001b[0m\u001b[0m\n\u001b[0;32m   1558\u001b[0m \u001b[1;33m\u001b[0m\u001b[0m\n\u001b[1;32m-> 1559\u001b[1;33m             \u001b[1;32mreturn\u001b[0m \u001b[0mself\u001b[0m\u001b[1;33m.\u001b[0m\u001b[0m_combine_const\u001b[0m\u001b[1;33m(\u001b[0m\u001b[0mother\u001b[0m\u001b[1;33m,\u001b[0m \u001b[0mna_op\u001b[0m\u001b[1;33m,\u001b[0m \u001b[0mtry_cast\u001b[0m\u001b[1;33m=\u001b[0m\u001b[1;32mTrue\u001b[0m\u001b[1;33m)\u001b[0m\u001b[1;33m\u001b[0m\u001b[0m\n\u001b[0m\u001b[0;32m   1560\u001b[0m \u001b[1;33m\u001b[0m\u001b[0m\n\u001b[0;32m   1561\u001b[0m     \u001b[0mf\u001b[0m\u001b[1;33m.\u001b[0m\u001b[0m__name__\u001b[0m \u001b[1;33m=\u001b[0m \u001b[0mop_name\u001b[0m\u001b[1;33m\u001b[0m\u001b[0m\n",
      "\u001b[1;32m~\\Anaconda3\\lib\\site-packages\\pandas\\core\\frame.py\u001b[0m in \u001b[0;36m_combine_const\u001b[1;34m(self, other, func, errors, try_cast)\u001b[0m\n\u001b[0;32m   4777\u001b[0m         new_data = self._data.eval(func=func, other=other,\n\u001b[0;32m   4778\u001b[0m                                    \u001b[0merrors\u001b[0m\u001b[1;33m=\u001b[0m\u001b[0merrors\u001b[0m\u001b[1;33m,\u001b[0m\u001b[1;33m\u001b[0m\u001b[0m\n\u001b[1;32m-> 4779\u001b[1;33m                                    try_cast=try_cast)\n\u001b[0m\u001b[0;32m   4780\u001b[0m         \u001b[1;32mreturn\u001b[0m \u001b[0mself\u001b[0m\u001b[1;33m.\u001b[0m\u001b[0m_constructor\u001b[0m\u001b[1;33m(\u001b[0m\u001b[0mnew_data\u001b[0m\u001b[1;33m)\u001b[0m\u001b[1;33m\u001b[0m\u001b[0m\n\u001b[0;32m   4781\u001b[0m \u001b[1;33m\u001b[0m\u001b[0m\n",
      "\u001b[1;32m~\\Anaconda3\\lib\\site-packages\\pandas\\core\\internals.py\u001b[0m in \u001b[0;36meval\u001b[1;34m(self, **kwargs)\u001b[0m\n\u001b[0;32m   3685\u001b[0m \u001b[1;33m\u001b[0m\u001b[0m\n\u001b[0;32m   3686\u001b[0m     \u001b[1;32mdef\u001b[0m \u001b[0meval\u001b[0m\u001b[1;33m(\u001b[0m\u001b[0mself\u001b[0m\u001b[1;33m,\u001b[0m \u001b[1;33m**\u001b[0m\u001b[0mkwargs\u001b[0m\u001b[1;33m)\u001b[0m\u001b[1;33m:\u001b[0m\u001b[1;33m\u001b[0m\u001b[0m\n\u001b[1;32m-> 3687\u001b[1;33m         \u001b[1;32mreturn\u001b[0m \u001b[0mself\u001b[0m\u001b[1;33m.\u001b[0m\u001b[0mapply\u001b[0m\u001b[1;33m(\u001b[0m\u001b[1;34m'eval'\u001b[0m\u001b[1;33m,\u001b[0m \u001b[1;33m**\u001b[0m\u001b[0mkwargs\u001b[0m\u001b[1;33m)\u001b[0m\u001b[1;33m\u001b[0m\u001b[0m\n\u001b[0m\u001b[0;32m   3688\u001b[0m \u001b[1;33m\u001b[0m\u001b[0m\n\u001b[0;32m   3689\u001b[0m     \u001b[1;32mdef\u001b[0m \u001b[0mquantile\u001b[0m\u001b[1;33m(\u001b[0m\u001b[0mself\u001b[0m\u001b[1;33m,\u001b[0m \u001b[1;33m**\u001b[0m\u001b[0mkwargs\u001b[0m\u001b[1;33m)\u001b[0m\u001b[1;33m:\u001b[0m\u001b[1;33m\u001b[0m\u001b[0m\n",
      "\u001b[1;32m~\\Anaconda3\\lib\\site-packages\\pandas\\core\\internals.py\u001b[0m in \u001b[0;36mapply\u001b[1;34m(self, f, axes, filter, do_integrity_check, consolidate, **kwargs)\u001b[0m\n\u001b[0;32m   3579\u001b[0m \u001b[1;33m\u001b[0m\u001b[0m\n\u001b[0;32m   3580\u001b[0m             \u001b[0mkwargs\u001b[0m\u001b[1;33m[\u001b[0m\u001b[1;34m'mgr'\u001b[0m\u001b[1;33m]\u001b[0m \u001b[1;33m=\u001b[0m \u001b[0mself\u001b[0m\u001b[1;33m\u001b[0m\u001b[0m\n\u001b[1;32m-> 3581\u001b[1;33m             \u001b[0mapplied\u001b[0m \u001b[1;33m=\u001b[0m \u001b[0mgetattr\u001b[0m\u001b[1;33m(\u001b[0m\u001b[0mb\u001b[0m\u001b[1;33m,\u001b[0m \u001b[0mf\u001b[0m\u001b[1;33m)\u001b[0m\u001b[1;33m(\u001b[0m\u001b[1;33m**\u001b[0m\u001b[0mkwargs\u001b[0m\u001b[1;33m)\u001b[0m\u001b[1;33m\u001b[0m\u001b[0m\n\u001b[0m\u001b[0;32m   3582\u001b[0m             \u001b[0mresult_blocks\u001b[0m \u001b[1;33m=\u001b[0m \u001b[0m_extend_blocks\u001b[0m\u001b[1;33m(\u001b[0m\u001b[0mapplied\u001b[0m\u001b[1;33m,\u001b[0m \u001b[0mresult_blocks\u001b[0m\u001b[1;33m)\u001b[0m\u001b[1;33m\u001b[0m\u001b[0m\n\u001b[0;32m   3583\u001b[0m \u001b[1;33m\u001b[0m\u001b[0m\n",
      "\u001b[1;32m~\\Anaconda3\\lib\\site-packages\\pandas\\core\\internals.py\u001b[0m in \u001b[0;36meval\u001b[1;34m(self, func, other, errors, try_cast, mgr)\u001b[0m\n\u001b[0;32m   1435\u001b[0m \u001b[1;33m\u001b[0m\u001b[0m\n\u001b[0;32m   1436\u001b[0m                 raise TypeError('Could not compare [{other!r}] '\n\u001b[1;32m-> 1437\u001b[1;33m                                 'with block values'.format(other=other))\n\u001b[0m\u001b[0;32m   1438\u001b[0m \u001b[1;33m\u001b[0m\u001b[0m\n\u001b[0;32m   1439\u001b[0m         \u001b[1;31m# transpose if needed\u001b[0m\u001b[1;33m\u001b[0m\u001b[1;33m\u001b[0m\u001b[0m\n",
      "\u001b[1;31mTypeError\u001b[0m: Could not compare [None] with block values"
     ]
    }
   ],
   "source": [
    "#The below code will give an output with some true and false values. The data point where we have False that means these values are valid whereas True indicates presence of an outlier.\n",
    "print(X < (Q1 - 1.5 * IQR)) |(X > (Q3 + 1.5 * IQR))"
   ]
  },
  {
   "cell_type": "markdown",
   "metadata": {},
   "source": [
    "Consulion:\n",
    "No outliers in de dataset"
   ]
  },
  {
   "cell_type": "code",
   "execution_count": 27,
   "metadata": {},
   "outputs": [
    {
     "data": {
      "text/plain": [
       "array([[91.02485967],\n",
       "       [87.28855857],\n",
       "       [89.44195709],\n",
       "       ...,\n",
       "       [84.04992962],\n",
       "       [68.15677583],\n",
       "       [89.36249501]])"
      ]
     },
     "execution_count": 27,
     "metadata": {},
     "output_type": "execute_result"
    }
   ],
   "source": [
    "## Y scaling\n",
    "Y= dataset_improved.iloc[:,1:2].values\n",
    "Y\n",
    "\n"
   ]
  },
  {
   "cell_type": "code",
   "execution_count": 28,
   "metadata": {},
   "outputs": [
    {
     "data": {
      "text/plain": [
       "array([[0.9102486 ],\n",
       "       [0.87288559],\n",
       "       [0.89441957],\n",
       "       ...,\n",
       "       [0.8404993 ],\n",
       "       [0.68156776],\n",
       "       [0.89362495]])"
      ]
     },
     "execution_count": 28,
     "metadata": {},
     "output_type": "execute_result"
    }
   ],
   "source": [
    "# Y data\n",
    "y = (Y/100)\n",
    "#df.head()\n",
    "\n",
    "y"
   ]
  },
  {
   "cell_type": "markdown",
   "metadata": {},
   "source": [
    "## Implementing models\n"
   ]
  },
  {
   "cell_type": "code",
   "execution_count": 29,
   "metadata": {},
   "outputs": [],
   "source": [
    "from sklearn.tree import DecisionTreeRegressor\n",
    "from sklearn.model_selection import train_test_split\n",
    "\n",
    "#X = dataset_improved.iloc[:,3:].values #not getting all the variables\n",
    "X = scaled_df\n",
    "#X[:4]\n"
   ]
  },
  {
   "cell_type": "code",
   "execution_count": 30,
   "metadata": {},
   "outputs": [],
   "source": [
    "#Using the train_test_split to create train and test sets.\n",
    "X_train, X_test, y_train, y_test = train_test_split(X, y, random_state = 0, test_size = 0.20)"
   ]
  },
  {
   "cell_type": "code",
   "execution_count": 31,
   "metadata": {},
   "outputs": [
    {
     "data": {
      "text/plain": [
       "(1579, 5)"
      ]
     },
     "execution_count": 31,
     "metadata": {},
     "output_type": "execute_result"
    }
   ],
   "source": [
    "X_train.shape"
   ]
  },
  {
   "cell_type": "code",
   "execution_count": 32,
   "metadata": {},
   "outputs": [
    {
     "data": {
      "text/plain": [
       "(1579, 1)"
      ]
     },
     "execution_count": 32,
     "metadata": {},
     "output_type": "execute_result"
    }
   ],
   "source": [
    "y_train.shape"
   ]
  },
  {
   "cell_type": "code",
   "execution_count": 33,
   "metadata": {},
   "outputs": [
    {
     "data": {
      "text/plain": [
       "(395, 5)"
      ]
     },
     "execution_count": 33,
     "metadata": {},
     "output_type": "execute_result"
    }
   ],
   "source": [
    "X_test.shape"
   ]
  },
  {
   "cell_type": "code",
   "execution_count": 34,
   "metadata": {},
   "outputs": [
    {
     "data": {
      "text/plain": [
       "(395, 1)"
      ]
     },
     "execution_count": 34,
     "metadata": {},
     "output_type": "execute_result"
    }
   ],
   "source": [
    "y_test.shape"
   ]
  },
  {
   "cell_type": "code",
   "execution_count": 50,
   "metadata": {},
   "outputs": [],
   "source": [
    "#Since it is a regression we are going to import regressor\n",
    "\n",
    "from sklearn.tree import DecisionTreeRegressor\n",
    "from sklearn.model_selection import cross_val_score\n",
    "from sklearn.ensemble import AdaBoostRegressor\n",
    "from sklearn.ensemble.gradient_boosting import GradientBoostingRegressor\n",
    "\n",
    "\n",
    "\n",
    "regressorDT = DecisionTreeRegressor(random_state = 0, max_depth=4)\n",
    "regressorAB = AdaBoostRegressor(DecisionTreeRegressor(max_depth=4), random_state=np.random.RandomState(0))\n",
    "regressorGB = GradientBoostingRegressor(n_estimators=100, learning_rate=0.1, max_depth=1, random_state=0, loss='ls')\n",
    "\n",
    "\n",
    "dt_fitDT=regressorDT.fit(X_train, y_train)\n",
    "dt_fitAB=regressorAB.fit(X_train, y_train)\n",
    "dt_fitGB=regressorGB.fit(X_train, y_train)\n",
    "\n",
    " #Predict label on the test set\n",
    "y_predictDT = regressorDT.predict(X_test)\n",
    "y_predictAB = regressorAB.predict(X_test)\n",
    "y_predictGB = regressorGB.predict(X_test)\n",
    "\n",
    "\n",
    "        "
   ]
  },
  {
   "cell_type": "code",
   "execution_count": 36,
   "metadata": {},
   "outputs": [
    {
     "name": "stdout",
     "output_type": "stream",
     "text": [
      "mean_sqared_error_DecisionTree: 0.0029478698034454175\n",
      "mean_sqared_error_AdaBoosting: 0.0038636094073759633\n",
      "mean_sqared_error_GradientBoosting: 0.002954002855534769\n"
     ]
    }
   ],
   "source": [
    "#Evaluation Metric\n",
    "# 1.Mean Squared Error\n",
    "from sklearn.metrics import mean_squared_error\n",
    "\n",
    "print(\"mean_sqared_error_DecisionTree: {}\".format(mean_squared_error(y_test, regressorDT.predict(X_test))))\n",
    "print(\"mean_sqared_error_AdaBoosting: {}\".format(mean_squared_error(y_test, regressorAB.predict(X_test))))\n",
    "print(\"mean_sqared_error_GradientBoosting: {}\".format(mean_squared_error(y_test, regressorGB.predict(X_test))))"
   ]
  },
  {
   "cell_type": "code",
   "execution_count": 37,
   "metadata": {},
   "outputs": [
    {
     "name": "stdout",
     "output_type": "stream",
     "text": [
      "mean_absolute_error_DecisionTree: 0.03748041956654684\n",
      "mean_absolute_error_AdaBoosting: 0.04747489331598223\n",
      "mean_absolute_error_GradientBoosting: 0.036785396088069355\n"
     ]
    }
   ],
   "source": [
    "# 2. Mean Absolute error\n",
    "from sklearn.metrics import mean_absolute_error\n",
    "\n",
    "print(\"mean_absolute_error_DecisionTree: {}\".format(mean_absolute_error(y_test,regressorDT.predict(X_test))))\n",
    "print(\"mean_absolute_error_AdaBoosting: {}\".format(mean_absolute_error(y_test,regressorAB.predict(X_test))))\n",
    "print(\"mean_absolute_error_GradientBoosting: {}\".format(mean_absolute_error(y_test,regressorGB.predict(X_test))))\n",
    "\n"
   ]
  },
  {
   "cell_type": "code",
   "execution_count": 38,
   "metadata": {},
   "outputs": [
    {
     "name": "stdout",
     "output_type": "stream",
     "text": [
      "DecisionTree_feature_importance: [0.30524786 0.13047936 0.01836821 0.04871686 0.4971877 ]\n",
      "AdaBoosting_feature_importance: [0.19424416 0.13518109 0.09713854 0.14783288 0.42560333]\n",
      "GRadientBoosting_feature_importance: [0.29 0.2  0.08 0.04 0.39]\n"
     ]
    }
   ],
   "source": [
    "#Features importance\n",
    "print(\"DecisionTree_feature_importance: {}\".format(dt_fitDT.feature_importances_))\n",
    "print(\"AdaBoosting_feature_importance: {}\".format(dt_fitAB.feature_importances_))\n",
    "print(\"GRadientBoosting_feature_importance: {}\".format(dt_fitGB.feature_importances_))\n",
    "#dt_fitDT.feature_importances_"
   ]
  },
  {
   "cell_type": "code",
   "execution_count": 39,
   "metadata": {},
   "outputs": [
    {
     "data": {
      "text/plain": [
       "array([0.89113279, 0.89113279, 0.89113279, 0.89113279, 0.89113279])"
      ]
     },
     "execution_count": 39,
     "metadata": {},
     "output_type": "execute_result"
    }
   ],
   "source": [
    "y_predictDT[:5]\n",
    "#y_predictAB[:5]\n",
    "#y_predictGB[:5]"
   ]
  },
  {
   "cell_type": "code",
   "execution_count": 40,
   "metadata": {},
   "outputs": [
    {
     "data": {
      "text/plain": [
       "array([[0.91509997],\n",
       "       [0.90607348],\n",
       "       [0.89504815],\n",
       "       [0.90116605],\n",
       "       [0.87253673]])"
      ]
     },
     "execution_count": 40,
     "metadata": {},
     "output_type": "execute_result"
    }
   ],
   "source": [
    "y_test[:5]"
   ]
  },
  {
   "cell_type": "markdown",
   "metadata": {},
   "source": [
    "## Linear Regression model"
   ]
  },
  {
   "cell_type": "code",
   "execution_count": 41,
   "metadata": {},
   "outputs": [],
   "source": [
    "#Since it is a regression we are going to import regressor\n",
    "\n",
    "from sklearn.linear_model import LinearRegression\n",
    "\n",
    "\n",
    "regressor = LinearRegression()\n",
    "\n",
    "dt_fit=regressor.fit(X_train, y_train)\n",
    "#dt_fit\n",
    "\n",
    " #Predict label on the test set\n",
    "y_predict = regressor.predict(X_test)\n",
    "\n",
    "#Ckeck the score\n",
    "#regressor.score(X_test, y_test)\n",
    "        "
   ]
  },
  {
   "cell_type": "code",
   "execution_count": 43,
   "metadata": {},
   "outputs": [
    {
     "name": "stdout",
     "output_type": "stream",
     "text": [
      "Estimated intercept coefficient: [0.88504087]\n"
     ]
    }
   ],
   "source": [
    "#Get the intercept, C (the mean of the response, Y, when all predictors, all X = 0.)\n",
    "\n",
    "#regressor.intercept_\n",
    "print('Estimated intercept coefficient:',(regressor.intercept_))"
   ]
  },
  {
   "cell_type": "code",
   "execution_count": 44,
   "metadata": {},
   "outputs": [
    {
     "name": "stdout",
     "output_type": "stream",
     "text": [
      "mean_sqared_error: 0.0028601940132318075\n"
     ]
    }
   ],
   "source": [
    "#Evaluation Metric\n",
    "# 1.Mean Squared Error\n",
    "from sklearn.metrics import mean_squared_error\n",
    "\n",
    "print(\"mean_sqared_error: {}\".format(mean_squared_error(y_test, regressor.predict(X_test))))\n"
   ]
  },
  {
   "cell_type": "code",
   "execution_count": 45,
   "metadata": {},
   "outputs": [
    {
     "name": "stdout",
     "output_type": "stream",
     "text": [
      "mean_absolute_error: 0.037437731636636565\n"
     ]
    }
   ],
   "source": [
    "# 2. Mean Absolute error\n",
    "from sklearn.metrics import mean_absolute_error\n",
    "\n",
    "print(\"mean_absolute_error: {}\".format(mean_absolute_error(y_test,regressor.predict(X_test))))\n",
    "\n"
   ]
  },
  {
   "cell_type": "code",
   "execution_count": 46,
   "metadata": {
    "scrolled": false
   },
   "outputs": [
    {
     "data": {
      "text/plain": [
       "array([[0.91211615],\n",
       "       [0.89979345],\n",
       "       [0.90329896],\n",
       "       [0.87913756],\n",
       "       [0.88872703]])"
      ]
     },
     "execution_count": 46,
     "metadata": {},
     "output_type": "execute_result"
    }
   ],
   "source": [
    "regressor.predict(X_test)[:5] # Predict unkown data"
   ]
  },
  {
   "cell_type": "code",
   "execution_count": 47,
   "metadata": {},
   "outputs": [
    {
     "data": {
      "text/plain": [
       "array([[0.91509997],\n",
       "       [0.90607348],\n",
       "       [0.89504815],\n",
       "       [0.90116605],\n",
       "       [0.87253673]])"
      ]
     },
     "execution_count": 47,
     "metadata": {},
     "output_type": "execute_result"
    }
   ],
   "source": [
    "y_test[:5]"
   ]
  }
 ],
 "metadata": {
  "kernelspec": {
   "display_name": "Python 3",
   "language": "python",
   "name": "python3"
  },
  "language_info": {
   "codemirror_mode": {
    "name": "ipython",
    "version": 3
   },
   "file_extension": ".py",
   "mimetype": "text/x-python",
   "name": "python",
   "nbconvert_exporter": "python",
   "pygments_lexer": "ipython3",
   "version": "3.6.6"
  }
 },
 "nbformat": 4,
 "nbformat_minor": 2
}
